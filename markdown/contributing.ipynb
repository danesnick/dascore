{
 "cells": [
  {
   "cell_type": "markdown",
   "id": "c9dac8a7",
   "metadata": {},
   "source": [
    "#%% md\n",
    "\n",
    "# Contributing\n",
    "\n",
    "Contributions to dascore are welcomed and appreciated. Before proceeding please be aware of our [code of conduct]().\n",
    "\n",
    "## Getting setup\n",
    "\n",
    "The following steps are needed to setup `dascore` for development:\n",
    "\n",
    "### 1. Clone dascore\n",
    "\n",
    "<!--pytest-codeblocks:skip-->\n",
    "```bash\n",
    "git clone https://github.com/dasdae/dascore\n",
    "cd dascore\n",
    "```\n",
    "\n",
    "### 2. Pull tags\n",
    "\n",
    "Make sure to pull all of the latest git tags.\n",
    "\n",
    "**NOTE:** You may need to do this periodically to keep tags in sync.\n",
    "\n",
    "<!--pytest-codeblocks:skip-->\n",
    "```bash\n",
    "git pull origin master --tags\n",
    "```\n",
    "\n",
    "### 3. Create a virtual environment (optional)\n",
    "\n",
    "Create and activate a virtual environment so dascore will not mess with the base (or system) python installation.\n",
    "\n",
    "If you are using [Anaconda](https://www.anaconda.com/), simply use the environment provided:\n",
    "\n",
    "<!--pytest-codeblocks:skip-->\n",
    "```bash\n",
    "conda env create -f environment.yml\n",
    "conda activate dascore\n",
    "```\n",
    "\n",
    "### 4. Install dascore in development mode\n",
    "\n",
    "<!--pytest-codeblocks:skip-->\n",
    "```bash\n",
    "pip install -e .[test,docs]\n",
    "```\n",
    "\n",
    "### 5. Setup pre-commit hooks\n",
    "\n",
    "dascore uses several [pre-commit](https://pre-commit.com/) hooks to ensure the code stays tidy. Please install and use them!\n",
    "\n",
    "<!--pytest-codeblocks:skip-->\n",
    "```bash\n",
    "pre-commit install -f\n",
    "```\n",
    "\n",
    "## Branching and versioning\n",
    "\n",
    "We create new features or bug fixes in their own branches and merge them into master via pull requests. We may switch to a more complex branching model if the need arises.\n",
    "\n",
    "If substantial new features have been added since the last release we will bump the minor version.  If only bug fixes/minor changes have been made, only the patch version will be bumped. Like most python projects, we loosely follow [semantic versioning](https://semver.org/) in terms that we will not bump the major version until dascore is more stable."
   ]
  },
  {
   "cell_type": "markdown",
   "id": "3fd719f5",
   "metadata": {},
   "source": [
    "## Running the tests\n",
    "\n",
    "The tests suite is run with [pytest](https://docs.pytest.org/en/stable/). While in the base dascore repo (and after installing dascore) invoke pytest from the command line:\n",
    "\n",
    "<!--pytest-codeblocks:skip-->\n",
    "```bash\n",
    "pytest tests\n",
    "```\n",
    "\n",
    "You can also check coverage\n",
    "\n",
    "<!--pytest-codeblocks:skip-->\n",
    "```bash\n",
    "pytest tests --cov dascore --cov-report term-missing\n",
    "```\n",
    "\n",
    "## Writing Tests\n",
    "\n",
    "Tests should go into the Tests/ folder, which mirrors the structure of the main package.\n",
    "\n",
    "In general, tests should be grouped together in classes. Fixtures go as close as\n",
    "possible to the test(s) that need them, going from class, module, and conftest fixtures.\n",
    "Checkout the pytest documentation for a [review on fixtures](https://docs.pytest.org/en/6.2.x/fixture.html)\n",
    "(and why to use them).\n",
    "\n",
    "## Building the documentation\n",
    "\n",
    "The documentation can be built using the script called \"make_docs.py\" in the scripts directory. If you have followed the instructions above all the required dependencies should be installed.\n",
    "You will also need to install `pandoc` using conda or the [offical installation](https://pandoc.org/installing.html).\n",
    "\n",
    "<!--pytest-codeblocks:skip-->\n",
    "```bash\n",
    "python scripts/make_docs.py\n",
    "```\n",
    "\n",
    "The docs can then be accessed by double-clicking on the newly created html index at docs/_build/html/index.html."
   ]
  },
  {
   "cell_type": "markdown",
   "id": "935eadcc",
   "metadata": {},
   "source": [
    "## Contributing to the documentation\n",
    "\n",
    "The documentation is primarily done in markdown but easily converted to jupyter notebooks using\n",
    "[jupytext](https://github.com/mwouts/jupytext). Feel free to make changes to the markdown then\n",
    "build with the following steps:"
   ]
  },
  {
   "cell_type": "markdown",
   "id": "974ca36e",
   "metadata": {},
   "source": [
    "## General guidelines"
   ]
  },
  {
   "cell_type": "markdown",
   "id": "2e578b04",
   "metadata": {},
   "source": [
    "dascore uses [Black](https://github.com/ambv/black) and [flake8](http://flake8.pycqa.org/en/latest/) for code linting. If you have properly installed dascore' pre-commit hooks they will be invoked automatically when you make a git commit. If any complaints are raised simply address them and try again.\n",
    "\n",
    "Use [numpy style docstrings](https://docs.scipy.org/doc/numpy/docs/howto_document.html). All public code (doesn't start with a `_`) should have a \"full\" docstring but private code (starts with a `_`) can have an abbreviated docstring."
   ]
  },
  {
   "cell_type": "markdown",
   "id": "15d76379",
   "metadata": {},
   "source": [
    "dascore makes extensive use of Python 3's [type hints](https://docs.python.org/3/library/typing.html). Use them to annotate any public functions/methods."
   ]
  },
  {
   "cell_type": "markdown",
   "id": "722723bb",
   "metadata": {},
   "source": [
    "Prefer `pathlib.Path` to strings when working with paths. However, when dealing with many many files (e.g., indexers) strings may be preferred for efficiency.\n"
   ]
  },
  {
   "cell_type": "markdown",
   "id": "58e74d84",
   "metadata": {},
   "source": [
    "### Example functions\n",
    "\n",
    "```python\n",
    "from typing import Optional, Union\n",
    "\n",
    "import dascore\n",
    "from dascore.constants import PatchType\n",
    "\n",
    "\n",
    "# example public Patch function\n",
    "@dascore.patch_function()\n",
    "def example_func(patch: PatchType, to_add: Optional[Union[int, float]]) -> PatchType:\n",
    "    \"\"\"\n",
    "    A simple, one line explanation of what this function does.\n",
    "\n",
    "    Additional details which might be useful, and are not limited to one line.\n",
    "    In fact, they might span several lines, especially if the author of the\n",
    "    docstring tends to include more details than needed.\n",
    "\n",
    "    Parameters\n",
    "    ----------\n",
    "    patch\n",
    "        A description of this parameter\n",
    "    to_add\n",
    "        A description of this parameter\n",
    "\n",
    "    Returns\n",
    "    -------\n",
    "    If needed, more information about what this function returns. You shouldn't\n",
    "    simply specify the type here since that is already given by the type annotation.\n",
    "    If the returned object is self-explanatory feel free to skip this section.\n",
    "\n",
    "    Examples\n",
    "    --------\n",
    "    >>> # Examples are included in the doctest style\n",
    "    >>> import dascore\n",
    "    ... pa = dascore.get_example_patch()\n",
    "    ...\n",
    "    ... out = example_func(pa)\n",
    "    \"\"\"\n",
    "    data = pa.data\n",
    "    if to_add is not None:\n",
    "        data += data\n",
    "    return patch.__class__(data=data, attrs=patch.atts, coords=patch.coords)\n",
    "\n",
    "\n",
    "# example private function\n",
    "def _recombobulate(df, arg1, arg2):\n",
    "    \"\"\"\n",
    "    A private function can have a simple (multi-line) snippet and doesn't need as\n",
    "    much detail or type hinting as a public function.\n",
    "    \"\"\"\n",
    "```"
   ]
  },
  {
   "cell_type": "markdown",
   "id": "8848224f",
   "metadata": {},
   "source": [
    "## Working with dataframes\n",
    "\n",
    "Column names should be snake_cased whenever possible."
   ]
  },
  {
   "cell_type": "markdown",
   "id": "71ca3fed",
   "metadata": {},
   "source": [
    "Always access columns with getitem and not getattr (ie use `df['column_name']` not `df.column_name`)."
   ]
  },
  {
   "cell_type": "markdown",
   "id": "1caff6e1",
   "metadata": {},
   "source": [
    "Prefer creating a new `DataFrame`/`Series` to modifying them inplace. Inplace modifications should require opting in (usually through an `inplace` key word argument)."
   ]
  }
 ],
 "metadata": {
  "jupytext": {
   "cell_metadata_filter": "-all",
   "main_language": "python",
   "notebook_metadata_filter": "-all",
   "text_representation": {
    "extension": ".Rmd",
    "format_name": "rmarkdown"
   }
  }
 },
 "nbformat": 4,
 "nbformat_minor": 5
}
