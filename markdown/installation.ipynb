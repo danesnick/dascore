{
 "cells": [
  {
   "cell_type": "markdown",
   "id": "14a8c62d",
   "metadata": {},
   "source": [
    "# Installation\n",
    "\n",
    "dascore can be installed with pip:\n",
    "\n",
    "<!--pytest-codeblocks:skip-->\n",
    "```bash\n",
    "pip install dascore\n",
    "```\n",
    "\n",
    "or conda:\n",
    "\n",
    "<!--pytest-codeblocks:skip-->\n",
    "```bash\n",
    "conda install dascore -c conda-forge\n",
    "```\n",
    "\n",
    "See [contributing](contributing.md) for developer installation."
   ]
  }
 ],
 "metadata": {
  "jupytext": {
   "cell_metadata_filter": "-all",
   "main_language": "python",
   "notebook_metadata_filter": "-all",
   "text_representation": {
    "extension": ".Rmd",
    "format_name": "rmarkdown"
   }
  }
 },
 "nbformat": 4,
 "nbformat_minor": 5
}
