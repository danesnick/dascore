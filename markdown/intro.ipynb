{
 "cells": [
  {
   "cell_type": "markdown",
   "id": "826a9365",
   "metadata": {},
   "source": [
    "# Quickstart\n",
    "\n",
    "A quickstart for dascore, a python library for fiber-optic sensing.\n",
    "\n",
    "## Patch\n",
    "A section of contiguous (or nearly so) fiber data is called a Patch. These can be generated in a few ways:"
   ]
  },
  {
   "cell_type": "markdown",
   "id": "9db8c899",
   "metadata": {},
   "source": [
    "1. Load an example patch (for simple demonstrations)\n",
    "\n",
    "```python\n",
    "import dascore\n",
    "pa = dascore.get_example_patch()\n",
    "```\n",
    "\n",
    "2. Load a file\n",
    "\n",
    "We first download an example fiber file (you need an internet connection).\n",
    "Next, we simply read it into a [Stream](#Stream) object then get the first (and only) patch.\n",
    "\n",
    "```python\n",
    "# get a fiber file\n",
    "import dascore\n",
    "from dascore.utils.downloader import fetch\n",
    "path = fetch(\"terra15_das_1_trimmed.hdf5\")  # path to a datafile\n",
    "\n",
    "pa = dascore.read(path)[0]\n",
    "```\n",
    "\n",
    "3. Create from Arrays\n",
    "\n",
    "Patches can also be created from numpy arrays and dictionaries. You need to specify:\n",
    "\n",
    "- The data array\n",
    "- The coordinates for labeling each axis\n",
    "- The attributes (optional)"
   ]
  },
  {
   "cell_type": "markdown",
   "id": "35e3ad79",
   "metadata": {},
   "source": [
    "```python\n",
    "import numpy as np\n",
    "\n",
    "import dascore\n",
    "from dascore.utils.time import to_timedelta64\n",
    "\n",
    "\n",
    "array = np.random.random(size=(300, 2_000))\n",
    "t1 = np.datetime64(\"2017-09-18\")\n",
    "attrs = dict(\n",
    "    d_distance=1,\n",
    "    d_time=to_timedelta64(1 / 250),\n",
    "    category=\"DAS\",\n",
    "    id=\"test_data1\",\n",
    "    time_min=t1,\n",
    ")\n",
    "\n",
    "coords = dict(\n",
    "    distance=np.arange(array.shape[0]) * attrs[\"d_distance\"],\n",
    "    time=np.arange(array.shape[1]) * attrs[\"d_time\"],\n",
    ")\n",
    "pa = dascore.Patch(data=array, coords=coords, attrs=attrs)\n",
    "```\n",
    "\n",
    "## Processing\n",
    "The patch has several methods which are intended to be chained together via a [fluent interface](https://en.wikipedia.org/wiki/Fluent_interface).\n",
    "\n",
    "```python\n",
    "import dascore\n",
    "pa = dascore.get_example_patch()\n",
    "\n",
    "out = (\n",
    "    pa.decimate(8)  # decimate to reduce data volume by 8 along time dimension\n",
    "    .detrend(dim='distance')  # detrend along distance dimension\n",
    "    .pass_filter(time=(None, 10))  # apply a low-pass 10 Hz butterworth filter\n",
    ")\n",
    "```\n",
    "\n",
    "## Visualization\n",
    "\n",
    "```python\n",
    "import dascore\n",
    "pa = dascore.get_example_patch()\n",
    "pa.viz.waterfall(show=True)\n",
    "```"
   ]
  }
 ],
 "metadata": {
  "jupytext": {
   "cell_metadata_filter": "-all",
   "main_language": "python",
   "notebook_metadata_filter": "-all",
   "text_representation": {
    "extension": ".Rmd",
    "format_name": "rmarkdown"
   }
  }
 },
 "nbformat": 4,
 "nbformat_minor": 5
}
